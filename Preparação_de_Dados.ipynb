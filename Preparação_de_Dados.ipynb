{
  "nbformat": 4,
  "nbformat_minor": 0,
  "metadata": {
    "colab": {
      "provenance": [],
      "toc_visible": true,
      "authorship_tag": "ABX9TyM8ayGGU5ejBuBb1aQPV5ja",
      "include_colab_link": true
    },
    "kernelspec": {
      "name": "python3",
      "display_name": "Python 3"
    },
    "language_info": {
      "name": "python"
    }
  },
  "cells": [
    {
      "cell_type": "markdown",
      "metadata": {
        "id": "view-in-github",
        "colab_type": "text"
      },
      "source": [
        "<a href=\"https://colab.research.google.com/github/irajamuller/cpp_data_structures/blob/main/Prepara%C3%A7%C3%A3o_de_Dados.ipynb\" target=\"_parent\"><img src=\"https://colab.research.google.com/assets/colab-badge.svg\" alt=\"Open In Colab\"/></a>"
      ]
    },
    {
      "cell_type": "markdown",
      "source": [
        "### NumPy ndarray\n",
        "\n",
        "O `ndarray` é a estrutura de dados básica da biblioteca Numpy. Qualquer um dos métodos analíticos implementados pelo NumPy irá requerer que os dados estejam armazenados nesta estrutura. Por se tratar de uma estrutura voltada para alto desempenho, o ndarray é implementado como um nódulo de baixo nível escrito na linguagem C utilizando a API para interface com a linguagem Python. Este método de implmeentação é comumente utilizado por módulos que requerem operações de alto desempenho, as quais não são suportadas pelos métodos ou estruturas nativas da linguagem Python.\n",
        "\n",
        "Em baixo nível, o ndarray é uma estrutura de dados alocada de forma contígua em memória, armazenando elementos de forma compacta e homogênea em memória. Diferentemente das estruturas básicas do Python, um ndarray armazena valores de um único tipo de dados, o qual é definido no momento em que a estrutura é instanciada. Há suporte para a maioria dos tipos inteiros e de ponto flutuante que estão disponíveis em linguagens de programação com tipagem forte (tal como o C). A informação do tipo de dados encontra-se armazenada em uma estrutura de cabeçalho, a qual também irá conter outros metadados da estrutura, tal como duas dimensões e tamanhos. Estas informações são utilizadas para controlar operações de leitura e escrita de dados na estrutura de forma eficiente por cálculos de deslocamento. A figura abaixo apresenta um diagrama que sumariza a estrutura de baixo nível do ndarray.\n",
        "\n",
        "![Estrutura do ndarray](https://raw.githubusercontent.com/irajamuller/data_science/main/figs/ndarray-structure.jpg)\n",
        "\n",
        "Por se tratar de uma estrutura simples e eficiente para manipulação de dados numéricos vetoriais, o ndarray é utilizado internamente por uma ampla gama de outras bibliotecas do Python que também tem o requisito de alto desempenho. Alguns exemplos incluem Pytorch e Tensorflow (duas bibliotecas amplamente utilizadas para trabalho com redes neurais profundas), OpenCV (biblioteca para trabalho com visão computacional), e a própria Pandas.\n",
        "\n",
        "Neste notebook iremos aprender algumas das funções básicas disponíveis para a criação e manipulação de ndarrays. Antes de qualquer coisa, precisamos instalar a biblioteca NumPy em nosso ambiente Python e importar o NumPy para nosso notebook."
      ],
      "metadata": {
        "id": "3YSjVf-dlsl5"
      }
    },
    {
      "cell_type": "code",
      "source": [
        "#!pip show numpy\n",
        "import numpy as np"
      ],
      "metadata": {
        "id": "ttiEwFpdx3io"
      },
      "execution_count": null,
      "outputs": []
    }
  ]
}